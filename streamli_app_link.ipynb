{
 "cells": [
  {
   "cell_type": "code",
   "execution_count": null,
   "id": "7f8b0a04",
   "metadata": {},
   "outputs": [],
   "source": [
    "Local URL: http://localhost:8501\n",
    "Network URL: http://192.168.0.3:8501\n"
   ]
  }
 ],
 "metadata": {
  "kernelspec": {
   "display_name": "Python 3 (ipykernel)",
   "language": "python",
   "name": "python3"
  },
  "language_info": {
   "codemirror_mode": {
    "name": "ipython",
    "version": 3
   },
   "file_extension": ".py",
   "mimetype": "text/x-python",
   "name": "python",
   "nbconvert_exporter": "python",
   "pygments_lexer": "ipython3",
   "version": "3.9.7"
  }
 },
 "nbformat": 4,
 "nbformat_minor": 5
}
